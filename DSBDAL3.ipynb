{
 "cells": [
  {
   "cell_type": "code",
   "execution_count": 1,
   "id": "2a87aed6-638f-442f-ad8d-00e51959f642",
   "metadata": {},
   "outputs": [],
   "source": [
    "import numpy as np"
   ]
  },
  {
   "cell_type": "code",
   "execution_count": 2,
   "id": "30f3cbc5-3164-4c5d-89b3-ec2aad4b9ffc",
   "metadata": {},
   "outputs": [],
   "source": [
    "import pandas as pd"
   ]
  },
  {
   "cell_type": "code",
   "execution_count": 3,
   "id": "a98468dc-2d7d-4fc4-a9b6-ab8d5f88da2d",
   "metadata": {},
   "outputs": [],
   "source": [
    "import seaborn as sns"
   ]
  },
  {
   "cell_type": "code",
   "execution_count": 4,
   "id": "67065061-8479-4fe8-a49a-2b9ee5f1857f",
   "metadata": {},
   "outputs": [],
   "source": [
    "import matplotlib.pyplot as plt"
   ]
  },
  {
   "cell_type": "code",
   "execution_count": 5,
   "id": "85a048e1-e315-46d0-a915-795cb8f73177",
   "metadata": {},
   "outputs": [
    {
     "data": {
      "text/html": [
       "<div>\n",
       "<style scoped>\n",
       "    .dataframe tbody tr th:only-of-type {\n",
       "        vertical-align: middle;\n",
       "    }\n",
       "\n",
       "    .dataframe tbody tr th {\n",
       "        vertical-align: top;\n",
       "    }\n",
       "\n",
       "    .dataframe thead th {\n",
       "        text-align: right;\n",
       "    }\n",
       "</style>\n",
       "<table border=\"1\" class=\"dataframe\">\n",
       "  <thead>\n",
       "    <tr style=\"text-align: right;\">\n",
       "      <th></th>\n",
       "      <th>sepal_length</th>\n",
       "      <th>sepal_width</th>\n",
       "      <th>petal_length</th>\n",
       "      <th>petal_width</th>\n",
       "      <th>species</th>\n",
       "    </tr>\n",
       "  </thead>\n",
       "  <tbody>\n",
       "    <tr>\n",
       "      <th>0</th>\n",
       "      <td>5.1</td>\n",
       "      <td>3.5</td>\n",
       "      <td>1.4</td>\n",
       "      <td>0.2</td>\n",
       "      <td>setosa</td>\n",
       "    </tr>\n",
       "    <tr>\n",
       "      <th>1</th>\n",
       "      <td>4.9</td>\n",
       "      <td>3.0</td>\n",
       "      <td>1.4</td>\n",
       "      <td>0.2</td>\n",
       "      <td>setosa</td>\n",
       "    </tr>\n",
       "    <tr>\n",
       "      <th>2</th>\n",
       "      <td>4.7</td>\n",
       "      <td>3.2</td>\n",
       "      <td>1.3</td>\n",
       "      <td>0.2</td>\n",
       "      <td>setosa</td>\n",
       "    </tr>\n",
       "    <tr>\n",
       "      <th>3</th>\n",
       "      <td>4.6</td>\n",
       "      <td>3.1</td>\n",
       "      <td>1.5</td>\n",
       "      <td>0.2</td>\n",
       "      <td>setosa</td>\n",
       "    </tr>\n",
       "    <tr>\n",
       "      <th>4</th>\n",
       "      <td>5.0</td>\n",
       "      <td>3.6</td>\n",
       "      <td>1.4</td>\n",
       "      <td>0.2</td>\n",
       "      <td>setosa</td>\n",
       "    </tr>\n",
       "    <tr>\n",
       "      <th>...</th>\n",
       "      <td>...</td>\n",
       "      <td>...</td>\n",
       "      <td>...</td>\n",
       "      <td>...</td>\n",
       "      <td>...</td>\n",
       "    </tr>\n",
       "    <tr>\n",
       "      <th>145</th>\n",
       "      <td>6.7</td>\n",
       "      <td>3.0</td>\n",
       "      <td>5.2</td>\n",
       "      <td>2.3</td>\n",
       "      <td>virginica</td>\n",
       "    </tr>\n",
       "    <tr>\n",
       "      <th>146</th>\n",
       "      <td>6.3</td>\n",
       "      <td>2.5</td>\n",
       "      <td>5.0</td>\n",
       "      <td>1.9</td>\n",
       "      <td>virginica</td>\n",
       "    </tr>\n",
       "    <tr>\n",
       "      <th>147</th>\n",
       "      <td>6.5</td>\n",
       "      <td>3.0</td>\n",
       "      <td>5.2</td>\n",
       "      <td>2.0</td>\n",
       "      <td>virginica</td>\n",
       "    </tr>\n",
       "    <tr>\n",
       "      <th>148</th>\n",
       "      <td>6.2</td>\n",
       "      <td>3.4</td>\n",
       "      <td>5.4</td>\n",
       "      <td>2.3</td>\n",
       "      <td>virginica</td>\n",
       "    </tr>\n",
       "    <tr>\n",
       "      <th>149</th>\n",
       "      <td>5.9</td>\n",
       "      <td>3.0</td>\n",
       "      <td>5.1</td>\n",
       "      <td>1.8</td>\n",
       "      <td>virginica</td>\n",
       "    </tr>\n",
       "  </tbody>\n",
       "</table>\n",
       "<p>150 rows × 5 columns</p>\n",
       "</div>"
      ],
      "text/plain": [
       "     sepal_length  sepal_width  petal_length  petal_width    species\n",
       "0             5.1          3.5           1.4          0.2     setosa\n",
       "1             4.9          3.0           1.4          0.2     setosa\n",
       "2             4.7          3.2           1.3          0.2     setosa\n",
       "3             4.6          3.1           1.5          0.2     setosa\n",
       "4             5.0          3.6           1.4          0.2     setosa\n",
       "..            ...          ...           ...          ...        ...\n",
       "145           6.7          3.0           5.2          2.3  virginica\n",
       "146           6.3          2.5           5.0          1.9  virginica\n",
       "147           6.5          3.0           5.2          2.0  virginica\n",
       "148           6.2          3.4           5.4          2.3  virginica\n",
       "149           5.9          3.0           5.1          1.8  virginica\n",
       "\n",
       "[150 rows x 5 columns]"
      ]
     },
     "execution_count": 5,
     "metadata": {},
     "output_type": "execute_result"
    }
   ],
   "source": [
    "df = sns.load_dataset('iris')\n",
    "df"
   ]
  },
  {
   "cell_type": "code",
   "execution_count": 6,
   "id": "1033daa3-ddf9-4c6a-abfc-d29fcd24f235",
   "metadata": {},
   "outputs": [
    {
     "data": {
      "text/plain": [
       "sepal_length    0\n",
       "sepal_width     0\n",
       "petal_length    0\n",
       "petal_width     0\n",
       "species         0\n",
       "dtype: int64"
      ]
     },
     "execution_count": 6,
     "metadata": {},
     "output_type": "execute_result"
    }
   ],
   "source": [
    "df.isnull().sum()"
   ]
  },
  {
   "cell_type": "code",
   "execution_count": 7,
   "id": "223a8681-0ba8-4e72-809d-162b4fd735da",
   "metadata": {},
   "outputs": [
    {
     "data": {
      "text/html": [
       "<div>\n",
       "<style scoped>\n",
       "    .dataframe tbody tr th:only-of-type {\n",
       "        vertical-align: middle;\n",
       "    }\n",
       "\n",
       "    .dataframe tbody tr th {\n",
       "        vertical-align: top;\n",
       "    }\n",
       "\n",
       "    .dataframe thead th {\n",
       "        text-align: right;\n",
       "    }\n",
       "</style>\n",
       "<table border=\"1\" class=\"dataframe\">\n",
       "  <thead>\n",
       "    <tr style=\"text-align: right;\">\n",
       "      <th></th>\n",
       "      <th>sepal_length</th>\n",
       "      <th>sepal_width</th>\n",
       "      <th>petal_length</th>\n",
       "      <th>petal_width</th>\n",
       "    </tr>\n",
       "  </thead>\n",
       "  <tbody>\n",
       "    <tr>\n",
       "      <th>count</th>\n",
       "      <td>150.000000</td>\n",
       "      <td>150.000000</td>\n",
       "      <td>150.000000</td>\n",
       "      <td>150.000000</td>\n",
       "    </tr>\n",
       "    <tr>\n",
       "      <th>mean</th>\n",
       "      <td>5.843333</td>\n",
       "      <td>3.057333</td>\n",
       "      <td>3.758000</td>\n",
       "      <td>1.199333</td>\n",
       "    </tr>\n",
       "    <tr>\n",
       "      <th>std</th>\n",
       "      <td>0.828066</td>\n",
       "      <td>0.435866</td>\n",
       "      <td>1.765298</td>\n",
       "      <td>0.762238</td>\n",
       "    </tr>\n",
       "    <tr>\n",
       "      <th>min</th>\n",
       "      <td>4.300000</td>\n",
       "      <td>2.000000</td>\n",
       "      <td>1.000000</td>\n",
       "      <td>0.100000</td>\n",
       "    </tr>\n",
       "    <tr>\n",
       "      <th>25%</th>\n",
       "      <td>5.100000</td>\n",
       "      <td>2.800000</td>\n",
       "      <td>1.600000</td>\n",
       "      <td>0.300000</td>\n",
       "    </tr>\n",
       "    <tr>\n",
       "      <th>50%</th>\n",
       "      <td>5.800000</td>\n",
       "      <td>3.000000</td>\n",
       "      <td>4.350000</td>\n",
       "      <td>1.300000</td>\n",
       "    </tr>\n",
       "    <tr>\n",
       "      <th>75%</th>\n",
       "      <td>6.400000</td>\n",
       "      <td>3.300000</td>\n",
       "      <td>5.100000</td>\n",
       "      <td>1.800000</td>\n",
       "    </tr>\n",
       "    <tr>\n",
       "      <th>max</th>\n",
       "      <td>7.900000</td>\n",
       "      <td>4.400000</td>\n",
       "      <td>6.900000</td>\n",
       "      <td>2.500000</td>\n",
       "    </tr>\n",
       "  </tbody>\n",
       "</table>\n",
       "</div>"
      ],
      "text/plain": [
       "       sepal_length  sepal_width  petal_length  petal_width\n",
       "count    150.000000   150.000000    150.000000   150.000000\n",
       "mean       5.843333     3.057333      3.758000     1.199333\n",
       "std        0.828066     0.435866      1.765298     0.762238\n",
       "min        4.300000     2.000000      1.000000     0.100000\n",
       "25%        5.100000     2.800000      1.600000     0.300000\n",
       "50%        5.800000     3.000000      4.350000     1.300000\n",
       "75%        6.400000     3.300000      5.100000     1.800000\n",
       "max        7.900000     4.400000      6.900000     2.500000"
      ]
     },
     "execution_count": 7,
     "metadata": {},
     "output_type": "execute_result"
    }
   ],
   "source": [
    "df.describe()"
   ]
  },
  {
   "cell_type": "code",
   "execution_count": 8,
   "id": "8fdc67b1-baf4-427f-b0b7-73c42e761f2e",
   "metadata": {},
   "outputs": [
    {
     "data": {
      "text/plain": [
       "np.float64(3.0573333333333337)"
      ]
     },
     "execution_count": 8,
     "metadata": {},
     "output_type": "execute_result"
    }
   ],
   "source": [
    "sepal_width_mean = df['sepal_width'].mean()\n",
    "sepal_width_mean"
   ]
  },
  {
   "cell_type": "code",
   "execution_count": 9,
   "id": "5a0535f9-3841-47bb-afb4-cdd71f625aa0",
   "metadata": {},
   "outputs": [
    {
     "data": {
      "text/plain": [
       "np.float64(3.0)"
      ]
     },
     "execution_count": 9,
     "metadata": {},
     "output_type": "execute_result"
    }
   ],
   "source": [
    "sepal_width_median = df['sepal_width'].median()\n",
    "sepal_width_median"
   ]
  },
  {
   "cell_type": "code",
   "execution_count": 10,
   "id": "32e54507-2f87-438c-ba4c-4e907ff687ea",
   "metadata": {},
   "outputs": [
    {
     "data": {
      "text/plain": [
       "np.float64(2.0)"
      ]
     },
     "execution_count": 10,
     "metadata": {},
     "output_type": "execute_result"
    }
   ],
   "source": [
    "sepal_width_min = df['sepal_width'].min()\n",
    "sepal_width_min"
   ]
  },
  {
   "cell_type": "code",
   "execution_count": 11,
   "id": "c82bbe29-b431-4308-9ae3-6d97d644280b",
   "metadata": {},
   "outputs": [
    {
     "data": {
      "text/plain": [
       "np.float64(4.4)"
      ]
     },
     "execution_count": 11,
     "metadata": {},
     "output_type": "execute_result"
    }
   ],
   "source": [
    "sepal_width_max = df['sepal_width'].max()\n",
    "sepal_width_max"
   ]
  },
  {
   "cell_type": "code",
   "execution_count": 12,
   "id": "851ae49f-fabf-40be-bb68-69e2d8873d4d",
   "metadata": {},
   "outputs": [
    {
     "data": {
      "text/plain": [
       "np.float64(0.4358662849366982)"
      ]
     },
     "execution_count": 12,
     "metadata": {},
     "output_type": "execute_result"
    }
   ],
   "source": [
    "sepal_width_std = df['sepal_width'].std()\n",
    "sepal_width_std"
   ]
  },
  {
   "cell_type": "code",
   "execution_count": 13,
   "id": "3e7b52c4-a840-4bf8-bc80-0d2e7e3521c8",
   "metadata": {},
   "outputs": [
    {
     "data": {
      "text/html": [
       "<div>\n",
       "<style scoped>\n",
       "    .dataframe tbody tr th:only-of-type {\n",
       "        vertical-align: middle;\n",
       "    }\n",
       "\n",
       "    .dataframe tbody tr th {\n",
       "        vertical-align: top;\n",
       "    }\n",
       "\n",
       "    .dataframe thead th {\n",
       "        text-align: right;\n",
       "    }\n",
       "</style>\n",
       "<table border=\"1\" class=\"dataframe\">\n",
       "  <thead>\n",
       "    <tr style=\"text-align: right;\">\n",
       "      <th></th>\n",
       "      <th>sepal_length</th>\n",
       "      <th>sepal_width</th>\n",
       "      <th>petal_length</th>\n",
       "      <th>petal_width</th>\n",
       "    </tr>\n",
       "  </thead>\n",
       "  <tbody>\n",
       "    <tr>\n",
       "      <th>count</th>\n",
       "      <td>150.000000</td>\n",
       "      <td>150.000000</td>\n",
       "      <td>150.000000</td>\n",
       "      <td>150.000000</td>\n",
       "    </tr>\n",
       "    <tr>\n",
       "      <th>mean</th>\n",
       "      <td>5.843333</td>\n",
       "      <td>3.057333</td>\n",
       "      <td>3.758000</td>\n",
       "      <td>1.199333</td>\n",
       "    </tr>\n",
       "    <tr>\n",
       "      <th>std</th>\n",
       "      <td>0.828066</td>\n",
       "      <td>0.435866</td>\n",
       "      <td>1.765298</td>\n",
       "      <td>0.762238</td>\n",
       "    </tr>\n",
       "    <tr>\n",
       "      <th>min</th>\n",
       "      <td>4.300000</td>\n",
       "      <td>2.000000</td>\n",
       "      <td>1.000000</td>\n",
       "      <td>0.100000</td>\n",
       "    </tr>\n",
       "    <tr>\n",
       "      <th>25%</th>\n",
       "      <td>5.100000</td>\n",
       "      <td>2.800000</td>\n",
       "      <td>1.600000</td>\n",
       "      <td>0.300000</td>\n",
       "    </tr>\n",
       "    <tr>\n",
       "      <th>50%</th>\n",
       "      <td>5.800000</td>\n",
       "      <td>3.000000</td>\n",
       "      <td>4.350000</td>\n",
       "      <td>1.300000</td>\n",
       "    </tr>\n",
       "    <tr>\n",
       "      <th>75%</th>\n",
       "      <td>6.400000</td>\n",
       "      <td>3.300000</td>\n",
       "      <td>5.100000</td>\n",
       "      <td>1.800000</td>\n",
       "    </tr>\n",
       "    <tr>\n",
       "      <th>max</th>\n",
       "      <td>7.900000</td>\n",
       "      <td>4.400000</td>\n",
       "      <td>6.900000</td>\n",
       "      <td>2.500000</td>\n",
       "    </tr>\n",
       "  </tbody>\n",
       "</table>\n",
       "</div>"
      ],
      "text/plain": [
       "       sepal_length  sepal_width  petal_length  petal_width\n",
       "count    150.000000   150.000000    150.000000   150.000000\n",
       "mean       5.843333     3.057333      3.758000     1.199333\n",
       "std        0.828066     0.435866      1.765298     0.762238\n",
       "min        4.300000     2.000000      1.000000     0.100000\n",
       "25%        5.100000     2.800000      1.600000     0.300000\n",
       "50%        5.800000     3.000000      4.350000     1.300000\n",
       "75%        6.400000     3.300000      5.100000     1.800000\n",
       "max        7.900000     4.400000      6.900000     2.500000"
      ]
     },
     "execution_count": 13,
     "metadata": {},
     "output_type": "execute_result"
    }
   ],
   "source": [
    "df.describe()"
   ]
  },
  {
   "cell_type": "code",
   "execution_count": 14,
   "id": "bc1d6319-c2c0-4f12-81e2-846d38b1c713",
   "metadata": {},
   "outputs": [
    {
     "data": {
      "text/plain": [
       "np.float64(5.843333333333334)"
      ]
     },
     "execution_count": 14,
     "metadata": {},
     "output_type": "execute_result"
    }
   ],
   "source": [
    "sepal_length_mean = df['sepal_length'].mean()\n",
    "sepal_length_mean"
   ]
  },
  {
   "cell_type": "code",
   "execution_count": 15,
   "id": "935bf66f-3822-4e57-b4af-bf4570c86cd9",
   "metadata": {},
   "outputs": [
    {
     "data": {
      "text/plain": [
       "np.float64(5.8)"
      ]
     },
     "execution_count": 15,
     "metadata": {},
     "output_type": "execute_result"
    }
   ],
   "source": [
    "sepal_length_median = df['sepal_length'].median()\n",
    "sepal_length_median"
   ]
  },
  {
   "cell_type": "code",
   "execution_count": 16,
   "id": "5c998547-b914-4175-9f7a-fbd7db4c3686",
   "metadata": {},
   "outputs": [
    {
     "data": {
      "text/plain": [
       "np.float64(4.3)"
      ]
     },
     "execution_count": 16,
     "metadata": {},
     "output_type": "execute_result"
    }
   ],
   "source": [
    "sepal_length_min = df['sepal_length'].min()\n",
    "sepal_length_min"
   ]
  },
  {
   "cell_type": "code",
   "execution_count": 17,
   "id": "ca3e0e70-2972-4887-80df-48106abb68ec",
   "metadata": {},
   "outputs": [
    {
     "data": {
      "text/plain": [
       "np.float64(7.9)"
      ]
     },
     "execution_count": 17,
     "metadata": {},
     "output_type": "execute_result"
    }
   ],
   "source": [
    "sepal_length_max = df['sepal_length'].max()\n",
    "sepal_length_max"
   ]
  },
  {
   "cell_type": "code",
   "execution_count": 18,
   "id": "843f95d8-9e77-4d1e-aa7c-b0f2b7f025e6",
   "metadata": {},
   "outputs": [
    {
     "data": {
      "text/plain": [
       "np.float64(0.828066127977863)"
      ]
     },
     "execution_count": 18,
     "metadata": {},
     "output_type": "execute_result"
    }
   ],
   "source": [
    "sepal_length_std = df['sepal_length'].std()\n",
    "sepal_length_std"
   ]
  },
  {
   "cell_type": "code",
   "execution_count": 19,
   "id": "5ca519e7-3d4f-41e3-8a36-d0eb3591007b",
   "metadata": {},
   "outputs": [
    {
     "data": {
      "text/plain": [
       "np.float64(3.7580000000000005)"
      ]
     },
     "execution_count": 19,
     "metadata": {},
     "output_type": "execute_result"
    }
   ],
   "source": [
    "petal_length_mean = df['petal_length'].mean()\n",
    "petal_length_mean"
   ]
  },
  {
   "cell_type": "code",
   "execution_count": 20,
   "id": "0d0f0755-7b1f-48a6-a260-0d9239683624",
   "metadata": {},
   "outputs": [
    {
     "data": {
      "text/plain": [
       "np.float64(4.35)"
      ]
     },
     "execution_count": 20,
     "metadata": {},
     "output_type": "execute_result"
    }
   ],
   "source": [
    "petal_length_median = df['petal_length'].median()\n",
    "petal_length_median"
   ]
  },
  {
   "cell_type": "code",
   "execution_count": 21,
   "id": "e028b522-a667-4db7-a6e4-6cdc13a51bba",
   "metadata": {},
   "outputs": [
    {
     "data": {
      "text/plain": [
       "np.float64(1.0)"
      ]
     },
     "execution_count": 21,
     "metadata": {},
     "output_type": "execute_result"
    }
   ],
   "source": [
    "petal_length_min = df['petal_length'].min()\n",
    "petal_length_min"
   ]
  },
  {
   "cell_type": "code",
   "execution_count": 22,
   "id": "53fa55d2-0f55-40a8-a997-753c52279054",
   "metadata": {},
   "outputs": [
    {
     "data": {
      "text/plain": [
       "np.float64(6.9)"
      ]
     },
     "execution_count": 22,
     "metadata": {},
     "output_type": "execute_result"
    }
   ],
   "source": [
    "petal_length_max = df['petal_length'].max()\n",
    "petal_length_max"
   ]
  },
  {
   "cell_type": "code",
   "execution_count": 23,
   "id": "546ef24a-255e-4277-8ca1-b144b45650ec",
   "metadata": {},
   "outputs": [
    {
     "data": {
      "text/plain": [
       "np.float64(1.7652982332594662)"
      ]
     },
     "execution_count": 23,
     "metadata": {},
     "output_type": "execute_result"
    }
   ],
   "source": [
    "petal_length_std = df['petal_length'].std()\n",
    "petal_length_std"
   ]
  },
  {
   "cell_type": "code",
   "execution_count": 24,
   "id": "54e522b8-cc51-4087-9988-f4c165214980",
   "metadata": {},
   "outputs": [
    {
     "data": {
      "text/plain": [
       "np.float64(1.1993333333333336)"
      ]
     },
     "execution_count": 24,
     "metadata": {},
     "output_type": "execute_result"
    }
   ],
   "source": [
    "petal_width_mean = df['petal_width'].mean()\n",
    "petal_width_mean"
   ]
  },
  {
   "cell_type": "code",
   "execution_count": 25,
   "id": "c9d156bd-e10d-4a54-9895-a7c109c6ef76",
   "metadata": {},
   "outputs": [
    {
     "data": {
      "text/plain": [
       "np.float64(1.3)"
      ]
     },
     "execution_count": 25,
     "metadata": {},
     "output_type": "execute_result"
    }
   ],
   "source": [
    "petal_width_median = df['petal_width'].median()\n",
    "petal_width_median"
   ]
  },
  {
   "cell_type": "code",
   "execution_count": 26,
   "id": "80bbc3af-0857-4389-b1e4-2ee49922b559",
   "metadata": {},
   "outputs": [
    {
     "data": {
      "text/plain": [
       "np.float64(0.1)"
      ]
     },
     "execution_count": 26,
     "metadata": {},
     "output_type": "execute_result"
    }
   ],
   "source": [
    "petal_width_min = df['petal_width'].min()\n",
    "petal_width_min"
   ]
  },
  {
   "cell_type": "code",
   "execution_count": 27,
   "id": "8a3712fe-bfa7-4c82-8d1d-f387b226c228",
   "metadata": {},
   "outputs": [
    {
     "data": {
      "text/plain": [
       "np.float64(2.5)"
      ]
     },
     "execution_count": 27,
     "metadata": {},
     "output_type": "execute_result"
    }
   ],
   "source": [
    "petal_width_max = df['petal_width'].max()\n",
    "petal_width_max"
   ]
  },
  {
   "cell_type": "code",
   "execution_count": 28,
   "id": "c704e651-7bd2-4b0f-ba57-bdb94c3b75ba",
   "metadata": {},
   "outputs": [
    {
     "data": {
      "text/plain": [
       "np.float64(0.7622376689603465)"
      ]
     },
     "execution_count": 28,
     "metadata": {},
     "output_type": "execute_result"
    }
   ],
   "source": [
    "petal_width_std = df['petal_width'].std()\n",
    "petal_width_std"
   ]
  },
  {
   "cell_type": "code",
   "execution_count": 29,
   "id": "7b91a343-37b2-48b5-8e9e-cd02eabde8fc",
   "metadata": {},
   "outputs": [
    {
     "data": {
      "text/html": [
       "<div>\n",
       "<style scoped>\n",
       "    .dataframe tbody tr th:only-of-type {\n",
       "        vertical-align: middle;\n",
       "    }\n",
       "\n",
       "    .dataframe tbody tr th {\n",
       "        vertical-align: top;\n",
       "    }\n",
       "\n",
       "    .dataframe thead tr th {\n",
       "        text-align: left;\n",
       "    }\n",
       "\n",
       "    .dataframe thead tr:last-of-type th {\n",
       "        text-align: right;\n",
       "    }\n",
       "</style>\n",
       "<table border=\"1\" class=\"dataframe\">\n",
       "  <thead>\n",
       "    <tr>\n",
       "      <th></th>\n",
       "      <th colspan=\"8\" halign=\"left\">sepal_length</th>\n",
       "      <th colspan=\"2\" halign=\"left\">sepal_width</th>\n",
       "      <th>...</th>\n",
       "      <th colspan=\"2\" halign=\"left\">petal_length</th>\n",
       "      <th colspan=\"8\" halign=\"left\">petal_width</th>\n",
       "    </tr>\n",
       "    <tr>\n",
       "      <th></th>\n",
       "      <th>count</th>\n",
       "      <th>mean</th>\n",
       "      <th>std</th>\n",
       "      <th>min</th>\n",
       "      <th>25%</th>\n",
       "      <th>50%</th>\n",
       "      <th>75%</th>\n",
       "      <th>max</th>\n",
       "      <th>count</th>\n",
       "      <th>mean</th>\n",
       "      <th>...</th>\n",
       "      <th>75%</th>\n",
       "      <th>max</th>\n",
       "      <th>count</th>\n",
       "      <th>mean</th>\n",
       "      <th>std</th>\n",
       "      <th>min</th>\n",
       "      <th>25%</th>\n",
       "      <th>50%</th>\n",
       "      <th>75%</th>\n",
       "      <th>max</th>\n",
       "    </tr>\n",
       "    <tr>\n",
       "      <th>species</th>\n",
       "      <th></th>\n",
       "      <th></th>\n",
       "      <th></th>\n",
       "      <th></th>\n",
       "      <th></th>\n",
       "      <th></th>\n",
       "      <th></th>\n",
       "      <th></th>\n",
       "      <th></th>\n",
       "      <th></th>\n",
       "      <th></th>\n",
       "      <th></th>\n",
       "      <th></th>\n",
       "      <th></th>\n",
       "      <th></th>\n",
       "      <th></th>\n",
       "      <th></th>\n",
       "      <th></th>\n",
       "      <th></th>\n",
       "      <th></th>\n",
       "      <th></th>\n",
       "    </tr>\n",
       "  </thead>\n",
       "  <tbody>\n",
       "    <tr>\n",
       "      <th>setosa</th>\n",
       "      <td>50.0</td>\n",
       "      <td>5.006</td>\n",
       "      <td>0.352490</td>\n",
       "      <td>4.3</td>\n",
       "      <td>4.800</td>\n",
       "      <td>5.0</td>\n",
       "      <td>5.2</td>\n",
       "      <td>5.8</td>\n",
       "      <td>50.0</td>\n",
       "      <td>3.428</td>\n",
       "      <td>...</td>\n",
       "      <td>1.575</td>\n",
       "      <td>1.9</td>\n",
       "      <td>50.0</td>\n",
       "      <td>0.246</td>\n",
       "      <td>0.105386</td>\n",
       "      <td>0.1</td>\n",
       "      <td>0.2</td>\n",
       "      <td>0.2</td>\n",
       "      <td>0.3</td>\n",
       "      <td>0.6</td>\n",
       "    </tr>\n",
       "    <tr>\n",
       "      <th>versicolor</th>\n",
       "      <td>50.0</td>\n",
       "      <td>5.936</td>\n",
       "      <td>0.516171</td>\n",
       "      <td>4.9</td>\n",
       "      <td>5.600</td>\n",
       "      <td>5.9</td>\n",
       "      <td>6.3</td>\n",
       "      <td>7.0</td>\n",
       "      <td>50.0</td>\n",
       "      <td>2.770</td>\n",
       "      <td>...</td>\n",
       "      <td>4.600</td>\n",
       "      <td>5.1</td>\n",
       "      <td>50.0</td>\n",
       "      <td>1.326</td>\n",
       "      <td>0.197753</td>\n",
       "      <td>1.0</td>\n",
       "      <td>1.2</td>\n",
       "      <td>1.3</td>\n",
       "      <td>1.5</td>\n",
       "      <td>1.8</td>\n",
       "    </tr>\n",
       "    <tr>\n",
       "      <th>virginica</th>\n",
       "      <td>50.0</td>\n",
       "      <td>6.588</td>\n",
       "      <td>0.635880</td>\n",
       "      <td>4.9</td>\n",
       "      <td>6.225</td>\n",
       "      <td>6.5</td>\n",
       "      <td>6.9</td>\n",
       "      <td>7.9</td>\n",
       "      <td>50.0</td>\n",
       "      <td>2.974</td>\n",
       "      <td>...</td>\n",
       "      <td>5.875</td>\n",
       "      <td>6.9</td>\n",
       "      <td>50.0</td>\n",
       "      <td>2.026</td>\n",
       "      <td>0.274650</td>\n",
       "      <td>1.4</td>\n",
       "      <td>1.8</td>\n",
       "      <td>2.0</td>\n",
       "      <td>2.3</td>\n",
       "      <td>2.5</td>\n",
       "    </tr>\n",
       "  </tbody>\n",
       "</table>\n",
       "<p>3 rows × 32 columns</p>\n",
       "</div>"
      ],
      "text/plain": [
       "           sepal_length                                              \\\n",
       "                  count   mean       std  min    25%  50%  75%  max   \n",
       "species                                                               \n",
       "setosa             50.0  5.006  0.352490  4.3  4.800  5.0  5.2  5.8   \n",
       "versicolor         50.0  5.936  0.516171  4.9  5.600  5.9  6.3  7.0   \n",
       "virginica          50.0  6.588  0.635880  4.9  6.225  6.5  6.9  7.9   \n",
       "\n",
       "           sepal_width         ... petal_length      petal_width         \\\n",
       "                 count   mean  ...          75%  max       count   mean   \n",
       "species                        ...                                        \n",
       "setosa            50.0  3.428  ...        1.575  1.9        50.0  0.246   \n",
       "versicolor        50.0  2.770  ...        4.600  5.1        50.0  1.326   \n",
       "virginica         50.0  2.974  ...        5.875  6.9        50.0  2.026   \n",
       "\n",
       "                                               \n",
       "                 std  min  25%  50%  75%  max  \n",
       "species                                        \n",
       "setosa      0.105386  0.1  0.2  0.2  0.3  0.6  \n",
       "versicolor  0.197753  1.0  1.2  1.3  1.5  1.8  \n",
       "virginica   0.274650  1.4  1.8  2.0  2.3  2.5  \n",
       "\n",
       "[3 rows x 32 columns]"
      ]
     },
     "execution_count": 29,
     "metadata": {},
     "output_type": "execute_result"
    }
   ],
   "source": [
    "df.groupby('species').describe()"
   ]
  },
  {
   "cell_type": "code",
   "execution_count": 30,
   "id": "ac61235a-0c85-4d15-9aa8-2c8af33ed454",
   "metadata": {},
   "outputs": [
    {
     "data": {
      "text/plain": [
       "species\n",
       "setosa        3.428\n",
       "versicolor    2.770\n",
       "virginica     2.974\n",
       "Name: sepal_width, dtype: float64"
      ]
     },
     "execution_count": 30,
     "metadata": {},
     "output_type": "execute_result"
    }
   ],
   "source": [
    "df.groupby('species')['sepal_width'].mean()"
   ]
  },
  {
   "cell_type": "code",
   "execution_count": 31,
   "id": "55d5c4fa-7cef-4efd-821f-aa266d71dd17",
   "metadata": {},
   "outputs": [
    {
     "data": {
      "text/plain": [
       "species\n",
       "setosa        5.006\n",
       "versicolor    5.936\n",
       "virginica     6.588\n",
       "Name: sepal_length, dtype: float64"
      ]
     },
     "execution_count": 31,
     "metadata": {},
     "output_type": "execute_result"
    }
   ],
   "source": [
    "df.groupby('species')['sepal_length'].mean()"
   ]
  },
  {
   "cell_type": "code",
   "execution_count": 32,
   "id": "1de89bcf-a7cb-4f6f-89c1-ad191110b734",
   "metadata": {},
   "outputs": [
    {
     "data": {
      "text/plain": [
       "species\n",
       "setosa        1.462\n",
       "versicolor    4.260\n",
       "virginica     5.552\n",
       "Name: petal_length, dtype: float64"
      ]
     },
     "execution_count": 32,
     "metadata": {},
     "output_type": "execute_result"
    }
   ],
   "source": [
    "df.groupby('species')['petal_length'].mean()"
   ]
  },
  {
   "cell_type": "code",
   "execution_count": 33,
   "id": "73574121-dcbd-4b44-a18d-6acd4e847332",
   "metadata": {},
   "outputs": [
    {
     "data": {
      "text/plain": [
       "species\n",
       "setosa        0.246\n",
       "versicolor    1.326\n",
       "virginica     2.026\n",
       "Name: petal_width, dtype: float64"
      ]
     },
     "execution_count": 33,
     "metadata": {},
     "output_type": "execute_result"
    }
   ],
   "source": [
    "df.groupby('species')['petal_width'].mean()"
   ]
  },
  {
   "cell_type": "code",
   "execution_count": 34,
   "id": "18121811-f484-43b9-a2db-cab2fe59a511",
   "metadata": {},
   "outputs": [],
   "source": [
    "def custom_mean(column):\n",
    "    data = column.tolist()\n",
    "    return sum(data)/len(data)"
   ]
  },
  {
   "cell_type": "code",
   "execution_count": 35,
   "id": "67e8044a-35db-4065-bf5e-082387a7fb80",
   "metadata": {},
   "outputs": [
    {
     "data": {
      "text/plain": [
       "species\n",
       "setosa        3.428\n",
       "versicolor    2.770\n",
       "virginica     2.974\n",
       "Name: sepal_width, dtype: float64"
      ]
     },
     "execution_count": 35,
     "metadata": {},
     "output_type": "execute_result"
    }
   ],
   "source": [
    "custom_mean_sepalwidth = df.groupby('species')['sepal_width'].apply(custom_mean)\n",
    "custom_mean_sepalwidth"
   ]
  },
  {
   "cell_type": "code",
   "execution_count": 36,
   "id": "da9b0ef3-b5ab-4056-b22d-05d1ff957b43",
   "metadata": {},
   "outputs": [
    {
     "data": {
      "text/plain": [
       "species\n",
       "setosa        5.006\n",
       "versicolor    5.936\n",
       "virginica     6.588\n",
       "Name: sepal_length, dtype: float64"
      ]
     },
     "execution_count": 36,
     "metadata": {},
     "output_type": "execute_result"
    }
   ],
   "source": [
    "custom_mean_sepal_length = df.groupby('species')['sepal_length'].apply(custom_mean)\n",
    "custom_mean_sepal_length"
   ]
  },
  {
   "cell_type": "code",
   "execution_count": 37,
   "id": "87f3b487-4832-4d8b-9003-bad189015efa",
   "metadata": {},
   "outputs": [
    {
     "data": {
      "text/plain": [
       "species\n",
       "setosa        1.462\n",
       "versicolor    4.260\n",
       "virginica     5.552\n",
       "Name: petal_length, dtype: float64"
      ]
     },
     "execution_count": 37,
     "metadata": {},
     "output_type": "execute_result"
    }
   ],
   "source": [
    "custom_mean_petallength = df.groupby('species')['petal_length'].apply(custom_mean)\n",
    "custom_mean_petallength"
   ]
  },
  {
   "cell_type": "code",
   "execution_count": 38,
   "id": "b29e6ed5-16aa-479a-af16-2d0a2cbc0f48",
   "metadata": {},
   "outputs": [
    {
     "data": {
      "text/plain": [
       "species\n",
       "setosa        0.246\n",
       "versicolor    1.326\n",
       "virginica     2.026\n",
       "Name: petal_width, dtype: float64"
      ]
     },
     "execution_count": 38,
     "metadata": {},
     "output_type": "execute_result"
    }
   ],
   "source": [
    "custom_mean_petalwidth = df.groupby('species')['petal_width'].apply(custom_mean)\n",
    "custom_mean_petalwidth"
   ]
  },
  {
   "cell_type": "code",
   "execution_count": 39,
   "id": "6c4dd257-57f8-4ede-bc94-3118231ed137",
   "metadata": {},
   "outputs": [],
   "source": [
    "def custom_median(column):\n",
    "    data = column.tolist()\n",
    "    data = sorted(data)\n",
    "    n = len(data)\n",
    "    mid = n//2\n",
    "    if n%2 == 0:\n",
    "        return (data[mid-1]+data[mid])/2\n",
    "    else:\n",
    "        return data[mid]"
   ]
  },
  {
   "cell_type": "code",
   "execution_count": 40,
   "id": "1054fd0d-25cf-42f2-bb10-5391124e041b",
   "metadata": {},
   "outputs": [
    {
     "data": {
      "text/plain": [
       "species\n",
       "setosa        3.4\n",
       "versicolor    2.8\n",
       "virginica     3.0\n",
       "Name: sepal_width, dtype: float64"
      ]
     },
     "execution_count": 40,
     "metadata": {},
     "output_type": "execute_result"
    }
   ],
   "source": [
    "custom_median_sepalwidth = df.groupby('species')['sepal_width'].apply(custom_median)\n",
    "custom_median_sepalwidth"
   ]
  },
  {
   "cell_type": "code",
   "execution_count": 41,
   "id": "35f97eaf-95d2-405f-9263-a20e23af7b09",
   "metadata": {},
   "outputs": [
    {
     "data": {
      "text/plain": [
       "species\n",
       "setosa        5.0\n",
       "versicolor    5.9\n",
       "virginica     6.5\n",
       "Name: sepal_length, dtype: float64"
      ]
     },
     "execution_count": 41,
     "metadata": {},
     "output_type": "execute_result"
    }
   ],
   "source": [
    "custom_median_sepallength = df.groupby('species')['sepal_length'].apply(custom_median)\n",
    "custom_median_sepallength"
   ]
  },
  {
   "cell_type": "code",
   "execution_count": 42,
   "id": "97ce7042-8fa7-4e08-9c4e-a82413e78c2f",
   "metadata": {},
   "outputs": [
    {
     "data": {
      "text/plain": [
       "species\n",
       "setosa        1.50\n",
       "versicolor    4.35\n",
       "virginica     5.55\n",
       "Name: petal_length, dtype: float64"
      ]
     },
     "execution_count": 42,
     "metadata": {},
     "output_type": "execute_result"
    }
   ],
   "source": [
    "custom_median_petallength = df.groupby('species')['petal_length'].apply(custom_median)\n",
    "custom_median_petallength"
   ]
  },
  {
   "cell_type": "code",
   "execution_count": 43,
   "id": "e758623e-41a3-4b0c-8489-95c0166c08b2",
   "metadata": {},
   "outputs": [
    {
     "data": {
      "text/plain": [
       "species\n",
       "setosa        0.2\n",
       "versicolor    1.3\n",
       "virginica     2.0\n",
       "Name: petal_width, dtype: float64"
      ]
     },
     "execution_count": 43,
     "metadata": {},
     "output_type": "execute_result"
    }
   ],
   "source": [
    "custom_median_petalwidth = df.groupby('species')['petal_width'].apply(custom_median)\n",
    "custom_median_petalwidth"
   ]
  },
  {
   "cell_type": "code",
   "execution_count": 44,
   "id": "eb9951bb-b054-4bb6-ab6a-d3d3174ca33e",
   "metadata": {},
   "outputs": [],
   "source": [
    "def custom_min(column):\n",
    "    data = column.tolist()\n",
    "    min_val = data[0]\n",
    "    for i in data:\n",
    "        if i<min_val:\n",
    "            min_val = i\n",
    "    return min_val"
   ]
  },
  {
   "cell_type": "code",
   "execution_count": 45,
   "id": "23d04e41-9d10-4a1c-8783-05dc6e62ef4d",
   "metadata": {},
   "outputs": [
    {
     "data": {
      "text/plain": [
       "species\n",
       "setosa        2.3\n",
       "versicolor    2.0\n",
       "virginica     2.2\n",
       "Name: sepal_width, dtype: float64"
      ]
     },
     "execution_count": 45,
     "metadata": {},
     "output_type": "execute_result"
    }
   ],
   "source": [
    "custom_min_sepallength = df.groupby('species')['sepal_width'].apply(custom_min)\n",
    "custom_min_sepallength"
   ]
  },
  {
   "cell_type": "code",
   "execution_count": 46,
   "id": "b14910d3-823b-4a42-b33d-b0a3c61ac564",
   "metadata": {},
   "outputs": [
    {
     "data": {
      "text/plain": [
       "species\n",
       "setosa        4.3\n",
       "versicolor    4.9\n",
       "virginica     4.9\n",
       "Name: sepal_length, dtype: float64"
      ]
     },
     "execution_count": 46,
     "metadata": {},
     "output_type": "execute_result"
    }
   ],
   "source": [
    "custom_min_sepallength = df.groupby('species')['sepal_length'].apply(custom_min)\n",
    "custom_min_sepallength"
   ]
  },
  {
   "cell_type": "code",
   "execution_count": 47,
   "id": "f320cca6-60e9-4d3c-a899-a0f3cea56172",
   "metadata": {},
   "outputs": [
    {
     "data": {
      "text/plain": [
       "species\n",
       "setosa        1.0\n",
       "versicolor    3.0\n",
       "virginica     4.5\n",
       "Name: petal_length, dtype: float64"
      ]
     },
     "execution_count": 47,
     "metadata": {},
     "output_type": "execute_result"
    }
   ],
   "source": [
    "custom_min_petallength = df.groupby('species')['petal_length'].apply(custom_min)\n",
    "custom_min_petallength"
   ]
  },
  {
   "cell_type": "code",
   "execution_count": 48,
   "id": "03c33ee8-1a71-44a9-9ba3-cc197fd071b8",
   "metadata": {},
   "outputs": [
    {
     "data": {
      "text/plain": [
       "species\n",
       "setosa        0.1\n",
       "versicolor    1.0\n",
       "virginica     1.4\n",
       "Name: petal_width, dtype: float64"
      ]
     },
     "execution_count": 48,
     "metadata": {},
     "output_type": "execute_result"
    }
   ],
   "source": [
    "custom_min_petalwidth = df.groupby('species')['petal_width'].apply(custom_min)\n",
    "custom_min_petalwidth"
   ]
  },
  {
   "cell_type": "code",
   "execution_count": 49,
   "id": "359c1ff1-c996-43df-9b13-8920de75d30f",
   "metadata": {},
   "outputs": [],
   "source": [
    "def custom_max(column):\n",
    "    data = column.tolist()\n",
    "    max_val = data[0]\n",
    "    for i in data:\n",
    "        if i > max_val:\n",
    "            max_val = i\n",
    "    return max_val"
   ]
  },
  {
   "cell_type": "code",
   "execution_count": 50,
   "id": "43502307-2060-443c-8530-c759955d332e",
   "metadata": {},
   "outputs": [
    {
     "data": {
      "text/plain": [
       "species\n",
       "setosa        4.4\n",
       "versicolor    3.4\n",
       "virginica     3.8\n",
       "Name: sepal_width, dtype: float64"
      ]
     },
     "execution_count": 50,
     "metadata": {},
     "output_type": "execute_result"
    }
   ],
   "source": [
    "custom_max_sepalwidth = df.groupby('species')['sepal_width'].apply(custom_max)\n",
    "custom_max_sepalwidth"
   ]
  },
  {
   "cell_type": "code",
   "execution_count": 51,
   "id": "65c0ecdc-f701-4751-a58a-481b88b2ce2c",
   "metadata": {},
   "outputs": [
    {
     "data": {
      "text/plain": [
       "species\n",
       "setosa        5.8\n",
       "versicolor    7.0\n",
       "virginica     7.9\n",
       "Name: sepal_length, dtype: float64"
      ]
     },
     "execution_count": 51,
     "metadata": {},
     "output_type": "execute_result"
    }
   ],
   "source": [
    "custom_max_sepallength = df.groupby('species')['sepal_length'].apply(custom_max)\n",
    "custom_max_sepallength"
   ]
  },
  {
   "cell_type": "code",
   "execution_count": 52,
   "id": "d0eae54c-8b45-4be2-9c80-1b7077d511d2",
   "metadata": {},
   "outputs": [
    {
     "data": {
      "text/plain": [
       "species\n",
       "setosa        1.9\n",
       "versicolor    5.1\n",
       "virginica     6.9\n",
       "Name: petal_length, dtype: float64"
      ]
     },
     "execution_count": 52,
     "metadata": {},
     "output_type": "execute_result"
    }
   ],
   "source": [
    "custom_max_petallength = df.groupby('species')['petal_length'].apply(custom_max)\n",
    "custom_max_petallength"
   ]
  },
  {
   "cell_type": "code",
   "execution_count": 53,
   "id": "d040f480-0011-4b66-9f18-bf7f37c2786a",
   "metadata": {},
   "outputs": [
    {
     "data": {
      "text/plain": [
       "species\n",
       "setosa        0.6\n",
       "versicolor    1.8\n",
       "virginica     2.5\n",
       "Name: petal_width, dtype: float64"
      ]
     },
     "execution_count": 53,
     "metadata": {},
     "output_type": "execute_result"
    }
   ],
   "source": [
    "custom_max_petalwidth = df.groupby('species')['petal_width'].apply(custom_max)\n",
    "custom_max_petalwidth"
   ]
  },
  {
   "cell_type": "code",
   "execution_count": 54,
   "id": "15cd3ae7-9124-43f0-bf4a-b9d32104891e",
   "metadata": {},
   "outputs": [],
   "source": [
    "def standard_deviation_custom(column):\n",
    "    data = column.tolist()\n",
    "    mean = custom_mean(column)\n",
    "    squared_diff = [(x-mean)**2 for x in data]\n",
    "    variation = sum(squared_diff)/(len(data)-1)\n",
    "    return variation**0.5"
   ]
  },
  {
   "cell_type": "code",
   "execution_count": 55,
   "id": "a13a437e-d5e0-40f9-96f1-5e08cc04e531",
   "metadata": {},
   "outputs": [
    {
     "data": {
      "text/plain": [
       "species\n",
       "setosa        0.173664\n",
       "versicolor    0.469911\n",
       "virginica     0.551895\n",
       "Name: petal_length, dtype: float64"
      ]
     },
     "execution_count": 55,
     "metadata": {},
     "output_type": "execute_result"
    }
   ],
   "source": [
    "custom_std_petallength = df.groupby('species')['petal_length'].apply(standard_deviation_custom)\n",
    "custom_std_petallength"
   ]
  },
  {
   "cell_type": "code",
   "execution_count": 56,
   "id": "b0cedd6a-d055-408c-a55a-7ed3fb29f046",
   "metadata": {},
   "outputs": [
    {
     "data": {
      "text/plain": [
       "species\n",
       "setosa        0.105386\n",
       "versicolor    0.197753\n",
       "virginica     0.274650\n",
       "Name: petal_width, dtype: float64"
      ]
     },
     "execution_count": 56,
     "metadata": {},
     "output_type": "execute_result"
    }
   ],
   "source": [
    "custom_std_petalwidth = df.groupby('species')['petal_width'].apply(standard_deviation_custom)\n",
    "custom_std_petalwidth"
   ]
  },
  {
   "cell_type": "code",
   "execution_count": 57,
   "id": "bf08f116-9d99-4dcf-b211-90db5148ceb2",
   "metadata": {},
   "outputs": [
    {
     "data": {
      "text/plain": [
       "species\n",
       "setosa        0.352490\n",
       "versicolor    0.516171\n",
       "virginica     0.635880\n",
       "Name: sepal_length, dtype: float64"
      ]
     },
     "execution_count": 57,
     "metadata": {},
     "output_type": "execute_result"
    }
   ],
   "source": [
    "custom_std_sepallength = df.groupby('species')['sepal_length'].apply(standard_deviation_custom)\n",
    "custom_std_sepallength"
   ]
  },
  {
   "cell_type": "code",
   "execution_count": 58,
   "id": "e77972c0-2a58-4bb1-b40a-eb4919a2a608",
   "metadata": {},
   "outputs": [
    {
     "data": {
      "text/plain": [
       "species\n",
       "setosa        0.379064\n",
       "versicolor    0.313798\n",
       "virginica     0.322497\n",
       "Name: sepal_width, dtype: float64"
      ]
     },
     "execution_count": 58,
     "metadata": {},
     "output_type": "execute_result"
    }
   ],
   "source": [
    "custom_std_sepalwidth = df.groupby('species')['sepal_width'].apply(standard_deviation_custom)\n",
    "custom_std_sepalwidth"
   ]
  },
  {
   "cell_type": "code",
   "execution_count": 59,
   "id": "565a7202-ccd8-4ff7-9866-831fb6b248f7",
   "metadata": {},
   "outputs": [
    {
     "data": {
      "text/html": [
       "<div>\n",
       "<style scoped>\n",
       "    .dataframe tbody tr th:only-of-type {\n",
       "        vertical-align: middle;\n",
       "    }\n",
       "\n",
       "    .dataframe tbody tr th {\n",
       "        vertical-align: top;\n",
       "    }\n",
       "\n",
       "    .dataframe thead th {\n",
       "        text-align: right;\n",
       "    }\n",
       "</style>\n",
       "<table border=\"1\" class=\"dataframe\">\n",
       "  <thead>\n",
       "    <tr style=\"text-align: right;\">\n",
       "      <th></th>\n",
       "      <th>sepal_length</th>\n",
       "      <th>sepal_width</th>\n",
       "      <th>petal_length</th>\n",
       "      <th>petal_width</th>\n",
       "    </tr>\n",
       "  </thead>\n",
       "  <tbody>\n",
       "    <tr>\n",
       "      <th>sepal_length</th>\n",
       "      <td>1.000000</td>\n",
       "      <td>-0.117570</td>\n",
       "      <td>0.871754</td>\n",
       "      <td>0.817941</td>\n",
       "    </tr>\n",
       "    <tr>\n",
       "      <th>sepal_width</th>\n",
       "      <td>-0.117570</td>\n",
       "      <td>1.000000</td>\n",
       "      <td>-0.428440</td>\n",
       "      <td>-0.366126</td>\n",
       "    </tr>\n",
       "    <tr>\n",
       "      <th>petal_length</th>\n",
       "      <td>0.871754</td>\n",
       "      <td>-0.428440</td>\n",
       "      <td>1.000000</td>\n",
       "      <td>0.962865</td>\n",
       "    </tr>\n",
       "    <tr>\n",
       "      <th>petal_width</th>\n",
       "      <td>0.817941</td>\n",
       "      <td>-0.366126</td>\n",
       "      <td>0.962865</td>\n",
       "      <td>1.000000</td>\n",
       "    </tr>\n",
       "  </tbody>\n",
       "</table>\n",
       "</div>"
      ],
      "text/plain": [
       "              sepal_length  sepal_width  petal_length  petal_width\n",
       "sepal_length      1.000000    -0.117570      0.871754     0.817941\n",
       "sepal_width      -0.117570     1.000000     -0.428440    -0.366126\n",
       "petal_length      0.871754    -0.428440      1.000000     0.962865\n",
       "petal_width       0.817941    -0.366126      0.962865     1.000000"
      ]
     },
     "execution_count": 59,
     "metadata": {},
     "output_type": "execute_result"
    }
   ],
   "source": [
    "cm = df.drop(columns=['species'],errors='ignore')\n",
    "cm.corr()"
   ]
  },
  {
   "cell_type": "code",
   "execution_count": 60,
   "id": "fdc257d6-3691-4878-8ca5-c698747a5a35",
   "metadata": {},
   "outputs": [
    {
     "data": {
      "text/plain": [
       "<Axes: >"
      ]
     },
     "execution_count": 60,
     "metadata": {},
     "output_type": "execute_result"
    },
    {
     "data": {
      "image/png": "[encoded data removed]",
      "text/plain": [
       "<Figure size 600x500 with 2 Axes>"
      ]
     },
     "metadata": {},
     "output_type": "display_data"
    }
   ],
   "source": [
    "correlation_matrix = df.iloc[:, :-1].corr()\n",
    "plt.figure(figsize=(6,5))\n",
    "sns.heatmap(correlation_matrix,annot=True,cmap='coolwarm',fmt = '.2f')"
   ]
  }
 ],
 "metadata": {
  "kernelspec": {
   "display_name": "Python 3 (ipykernel)",
   "language": "python",
   "name": "python3"
  },
  "language_info": {
   "codemirror_mode": {
    "name": "ipython",
    "version": 3
   },
   "file_extension": ".py",
   "mimetype": "text/x-python",
   "name": "python",
   "nbconvert_exporter": "python",
   "pygments_lexer": "ipython3",
   "version": "3.13.2"
  }
 },
 "nbformat": 4,
 "nbformat_minor": 5
}
