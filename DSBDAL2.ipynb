{
 "cells": [
  {
   "cell_type": "code",
   "execution_count": 1,
   "id": "2eb1c0c3-8c85-4f8d-bd83-bdb4fcbbce51",
   "metadata": {},
   "outputs": [],
   "source": [
    "import numpy as np"
   ]
  },
  {
   "cell_type": "code",
   "execution_count": 2,
   "id": "535bea98-6c55-4678-becd-320224657c59",
   "metadata": {},
   "outputs": [],
   "source": [
    "import pandas as pd"
   ]
  },
  {
   "cell_type": "code",
   "execution_count": 3,
   "id": "a553e49e-4ce0-4a10-b1f7-f606d2730249",
   "metadata": {},
   "outputs": [],
   "source": [
    "import scipy"
   ]
  },
  {
   "cell_type": "code",
   "execution_count": 4,
   "id": "fdcef333-66bc-43e5-bd3b-8d6750c84b74",
   "metadata": {},
   "outputs": [],
   "source": [
    "from sklearn.preprocessing import LabelEncoder"
   ]
  },
  {
   "cell_type": "code",
   "execution_count": 5,
   "id": "3da5c3b9-00f9-4f4f-8296-a43a287c65ee",
   "metadata": {},
   "outputs": [],
   "source": [
    "le = LabelEncoder()"
   ]
  },
  {
   "cell_type": "code",
   "execution_count": 6,
   "id": "b8afa95a-f6b3-48c9-833b-781f5f0e7507",
   "metadata": {},
   "outputs": [
    {
     "data": {
      "text/html": [
       "<div>\n",
       "<style scoped>\n",
       "    .dataframe tbody tr th:only-of-type {\n",
       "        vertical-align: middle;\n",
       "    }\n",
       "\n",
       "    .dataframe tbody tr th {\n",
       "        vertical-align: top;\n",
       "    }\n",
       "\n",
       "    .dataframe thead th {\n",
       "        text-align: right;\n",
       "    }\n",
       "</style>\n",
       "<table border=\"1\" class=\"dataframe\">\n",
       "  <thead>\n",
       "    <tr style=\"text-align: right;\">\n",
       "      <th></th>\n",
       "      <th>Age</th>\n",
       "      <th>Income</th>\n",
       "    </tr>\n",
       "  </thead>\n",
       "  <tbody>\n",
       "    <tr>\n",
       "      <th>0</th>\n",
       "      <td>Young</td>\n",
       "      <td>25000</td>\n",
       "    </tr>\n",
       "    <tr>\n",
       "      <th>1</th>\n",
       "      <td>Middle Age</td>\n",
       "      <td>54000</td>\n",
       "    </tr>\n",
       "    <tr>\n",
       "      <th>2</th>\n",
       "      <td>Old</td>\n",
       "      <td>60000</td>\n",
       "    </tr>\n",
       "    <tr>\n",
       "      <th>3</th>\n",
       "      <td>Young</td>\n",
       "      <td>15000</td>\n",
       "    </tr>\n",
       "    <tr>\n",
       "      <th>4</th>\n",
       "      <td>Young</td>\n",
       "      <td>45000</td>\n",
       "    </tr>\n",
       "    <tr>\n",
       "      <th>5</th>\n",
       "      <td>Young</td>\n",
       "      <td>65000</td>\n",
       "    </tr>\n",
       "    <tr>\n",
       "      <th>6</th>\n",
       "      <td>Young</td>\n",
       "      <td>70000</td>\n",
       "    </tr>\n",
       "    <tr>\n",
       "      <th>7</th>\n",
       "      <td>Young</td>\n",
       "      <td>30000</td>\n",
       "    </tr>\n",
       "    <tr>\n",
       "      <th>8</th>\n",
       "      <td>Middle Age</td>\n",
       "      <td>27000</td>\n",
       "    </tr>\n",
       "    <tr>\n",
       "      <th>9</th>\n",
       "      <td>Young</td>\n",
       "      <td>23000</td>\n",
       "    </tr>\n",
       "    <tr>\n",
       "      <th>10</th>\n",
       "      <td>Young</td>\n",
       "      <td>48000</td>\n",
       "    </tr>\n",
       "    <tr>\n",
       "      <th>11</th>\n",
       "      <td>Old</td>\n",
       "      <td>52000</td>\n",
       "    </tr>\n",
       "    <tr>\n",
       "      <th>12</th>\n",
       "      <td>Young</td>\n",
       "      <td>33000</td>\n",
       "    </tr>\n",
       "    <tr>\n",
       "      <th>13</th>\n",
       "      <td>Old</td>\n",
       "      <td>80000</td>\n",
       "    </tr>\n",
       "    <tr>\n",
       "      <th>14</th>\n",
       "      <td>Old</td>\n",
       "      <td>75000</td>\n",
       "    </tr>\n",
       "    <tr>\n",
       "      <th>15</th>\n",
       "      <td>Old</td>\n",
       "      <td>35000</td>\n",
       "    </tr>\n",
       "    <tr>\n",
       "      <th>16</th>\n",
       "      <td>Middle Age</td>\n",
       "      <td>29000</td>\n",
       "    </tr>\n",
       "    <tr>\n",
       "      <th>17</th>\n",
       "      <td>Middle Age</td>\n",
       "      <td>57000</td>\n",
       "    </tr>\n",
       "    <tr>\n",
       "      <th>18</th>\n",
       "      <td>Old</td>\n",
       "      <td>43000</td>\n",
       "    </tr>\n",
       "    <tr>\n",
       "      <th>19</th>\n",
       "      <td>Middle Age</td>\n",
       "      <td>56000</td>\n",
       "    </tr>\n",
       "    <tr>\n",
       "      <th>20</th>\n",
       "      <td>Old</td>\n",
       "      <td>63000</td>\n",
       "    </tr>\n",
       "    <tr>\n",
       "      <th>21</th>\n",
       "      <td>Old</td>\n",
       "      <td>32000</td>\n",
       "    </tr>\n",
       "    <tr>\n",
       "      <th>22</th>\n",
       "      <td>Old</td>\n",
       "      <td>45000</td>\n",
       "    </tr>\n",
       "    <tr>\n",
       "      <th>23</th>\n",
       "      <td>Old</td>\n",
       "      <td>89000</td>\n",
       "    </tr>\n",
       "    <tr>\n",
       "      <th>24</th>\n",
       "      <td>Middle Age</td>\n",
       "      <td>90000</td>\n",
       "    </tr>\n",
       "    <tr>\n",
       "      <th>25</th>\n",
       "      <td>Middle Age</td>\n",
       "      <td>93000</td>\n",
       "    </tr>\n",
       "    <tr>\n",
       "      <th>26</th>\n",
       "      <td>Young</td>\n",
       "      <td>80000</td>\n",
       "    </tr>\n",
       "    <tr>\n",
       "      <th>27</th>\n",
       "      <td>Young</td>\n",
       "      <td>87000</td>\n",
       "    </tr>\n",
       "    <tr>\n",
       "      <th>28</th>\n",
       "      <td>Young</td>\n",
       "      <td>38000</td>\n",
       "    </tr>\n",
       "    <tr>\n",
       "      <th>29</th>\n",
       "      <td>Young</td>\n",
       "      <td>23000</td>\n",
       "    </tr>\n",
       "    <tr>\n",
       "      <th>30</th>\n",
       "      <td>Middle Age</td>\n",
       "      <td>38900</td>\n",
       "    </tr>\n",
       "    <tr>\n",
       "      <th>31</th>\n",
       "      <td>Middle Age</td>\n",
       "      <td>53200</td>\n",
       "    </tr>\n",
       "    <tr>\n",
       "      <th>32</th>\n",
       "      <td>Old</td>\n",
       "      <td>43800</td>\n",
       "    </tr>\n",
       "    <tr>\n",
       "      <th>33</th>\n",
       "      <td>Middle Age</td>\n",
       "      <td>25600</td>\n",
       "    </tr>\n",
       "    <tr>\n",
       "      <th>34</th>\n",
       "      <td>Middle Age</td>\n",
       "      <td>65400</td>\n",
       "    </tr>\n",
       "    <tr>\n",
       "      <th>35</th>\n",
       "      <td>Old</td>\n",
       "      <td>76800</td>\n",
       "    </tr>\n",
       "    <tr>\n",
       "      <th>36</th>\n",
       "      <td>Old</td>\n",
       "      <td>89700</td>\n",
       "    </tr>\n",
       "    <tr>\n",
       "      <th>37</th>\n",
       "      <td>Old</td>\n",
       "      <td>41800</td>\n",
       "    </tr>\n",
       "    <tr>\n",
       "      <th>38</th>\n",
       "      <td>Young</td>\n",
       "      <td>31900</td>\n",
       "    </tr>\n",
       "    <tr>\n",
       "      <th>39</th>\n",
       "      <td>Old</td>\n",
       "      <td>25600</td>\n",
       "    </tr>\n",
       "    <tr>\n",
       "      <th>40</th>\n",
       "      <td>Middle Age</td>\n",
       "      <td>45700</td>\n",
       "    </tr>\n",
       "    <tr>\n",
       "      <th>41</th>\n",
       "      <td>Old</td>\n",
       "      <td>35600</td>\n",
       "    </tr>\n",
       "    <tr>\n",
       "      <th>42</th>\n",
       "      <td>Young</td>\n",
       "      <td>54300</td>\n",
       "    </tr>\n",
       "    <tr>\n",
       "      <th>43</th>\n",
       "      <td>Middle Age</td>\n",
       "      <td>65400</td>\n",
       "    </tr>\n",
       "    <tr>\n",
       "      <th>44</th>\n",
       "      <td>Old</td>\n",
       "      <td>67800</td>\n",
       "    </tr>\n",
       "    <tr>\n",
       "      <th>45</th>\n",
       "      <td>Old</td>\n",
       "      <td>24500</td>\n",
       "    </tr>\n",
       "    <tr>\n",
       "      <th>46</th>\n",
       "      <td>Middle Age</td>\n",
       "      <td>34900</td>\n",
       "    </tr>\n",
       "    <tr>\n",
       "      <th>47</th>\n",
       "      <td>Old</td>\n",
       "      <td>45300</td>\n",
       "    </tr>\n",
       "    <tr>\n",
       "      <th>48</th>\n",
       "      <td>Young</td>\n",
       "      <td>68400</td>\n",
       "    </tr>\n",
       "    <tr>\n",
       "      <th>49</th>\n",
       "      <td>Middle Age</td>\n",
       "      <td>51700</td>\n",
       "    </tr>\n",
       "  </tbody>\n",
       "</table>\n",
       "</div>"
      ],
      "text/plain": [
       "           Age  Income\n",
       "0        Young   25000\n",
       "1   Middle Age   54000\n",
       "2          Old   60000\n",
       "3        Young   15000\n",
       "4        Young   45000\n",
       "5        Young   65000\n",
       "6        Young   70000\n",
       "7        Young   30000\n",
       "8   Middle Age   27000\n",
       "9        Young   23000\n",
       "10       Young   48000\n",
       "11         Old   52000\n",
       "12       Young   33000\n",
       "13         Old   80000\n",
       "14         Old   75000\n",
       "15         Old   35000\n",
       "16  Middle Age   29000\n",
       "17  Middle Age   57000\n",
       "18         Old   43000\n",
       "19  Middle Age   56000\n",
       "20         Old   63000\n",
       "21         Old   32000\n",
       "22         Old   45000\n",
       "23         Old   89000\n",
       "24  Middle Age   90000\n",
       "25  Middle Age   93000\n",
       "26       Young   80000\n",
       "27       Young   87000\n",
       "28       Young   38000\n",
       "29       Young   23000\n",
       "30  Middle Age   38900\n",
       "31  Middle Age   53200\n",
       "32         Old   43800\n",
       "33  Middle Age   25600\n",
       "34  Middle Age   65400\n",
       "35         Old   76800\n",
       "36         Old   89700\n",
       "37         Old   41800\n",
       "38       Young   31900\n",
       "39         Old   25600\n",
       "40  Middle Age   45700\n",
       "41         Old   35600\n",
       "42       Young   54300\n",
       "43  Middle Age   65400\n",
       "44         Old   67800\n",
       "45         Old   24500\n",
       "46  Middle Age   34900\n",
       "47         Old   45300\n",
       "48       Young   68400\n",
       "49  Middle Age   51700"
      ]
     },
     "execution_count": 6,
     "metadata": {},
     "output_type": "execute_result"
    }
   ],
   "source": [
    "df = pd.read_csv('Age-Income-Dataset - Sheet1.csv')\n",
    "df"
   ]
  },
  {
   "cell_type": "code",
   "execution_count": 7,
   "id": "3c926897-e59e-4171-a21e-e2897293f25e",
   "metadata": {},
   "outputs": [
    {
     "data": {
      "text/plain": [
       "Age       0\n",
       "Income    0\n",
       "dtype: int64"
      ]
     },
     "execution_count": 7,
     "metadata": {},
     "output_type": "execute_result"
    }
   ],
   "source": [
    "df.isnull().sum()"
   ]
  },
  {
   "cell_type": "code",
   "execution_count": 8,
   "id": "5115ba22-835b-451d-8af4-f383019d4e48",
   "metadata": {},
   "outputs": [
    {
     "data": {
      "text/plain": [
       "(50, 2)"
      ]
     },
     "execution_count": 8,
     "metadata": {},
     "output_type": "execute_result"
    }
   ],
   "source": [
    "df.shape"
   ]
  },
  {
   "cell_type": "code",
   "execution_count": 9,
   "id": "92f1f895-9b08-4852-a85a-ac6059b615fb",
   "metadata": {},
   "outputs": [
    {
     "name": "stdout",
     "output_type": "stream",
     "text": [
      "<class 'pandas.core.frame.DataFrame'>\n",
      "RangeIndex: 50 entries, 0 to 49\n",
      "Data columns (total 2 columns):\n",
      " #   Column  Non-Null Count  Dtype \n",
      "---  ------  --------------  ----- \n",
      " 0   Age     50 non-null     object\n",
      " 1   Income  50 non-null     int64 \n",
      "dtypes: int64(1), object(1)\n",
      "memory usage: 932.0+ bytes\n"
     ]
    }
   ],
   "source": [
    "df.info()"
   ]
  },
  {
   "cell_type": "code",
   "execution_count": 10,
   "id": "88375d30-115e-4f57-b75c-55d101c3042a",
   "metadata": {},
   "outputs": [
    {
     "data": {
      "text/html": [
       "<div>\n",
       "<style scoped>\n",
       "    .dataframe tbody tr th:only-of-type {\n",
       "        vertical-align: middle;\n",
       "    }\n",
       "\n",
       "    .dataframe tbody tr th {\n",
       "        vertical-align: top;\n",
       "    }\n",
       "\n",
       "    .dataframe thead th {\n",
       "        text-align: right;\n",
       "    }\n",
       "</style>\n",
       "<table border=\"1\" class=\"dataframe\">\n",
       "  <thead>\n",
       "    <tr style=\"text-align: right;\">\n",
       "      <th></th>\n",
       "      <th>Income</th>\n",
       "    </tr>\n",
       "  </thead>\n",
       "  <tbody>\n",
       "    <tr>\n",
       "      <th>count</th>\n",
       "      <td>50.000000</td>\n",
       "    </tr>\n",
       "    <tr>\n",
       "      <th>mean</th>\n",
       "      <td>50966.000000</td>\n",
       "    </tr>\n",
       "    <tr>\n",
       "      <th>std</th>\n",
       "      <td>21096.683268</td>\n",
       "    </tr>\n",
       "    <tr>\n",
       "      <th>min</th>\n",
       "      <td>15000.000000</td>\n",
       "    </tr>\n",
       "    <tr>\n",
       "      <th>25%</th>\n",
       "      <td>33475.000000</td>\n",
       "    </tr>\n",
       "    <tr>\n",
       "      <th>50%</th>\n",
       "      <td>46850.000000</td>\n",
       "    </tr>\n",
       "    <tr>\n",
       "      <th>75%</th>\n",
       "      <td>65400.000000</td>\n",
       "    </tr>\n",
       "    <tr>\n",
       "      <th>max</th>\n",
       "      <td>93000.000000</td>\n",
       "    </tr>\n",
       "  </tbody>\n",
       "</table>\n",
       "</div>"
      ],
      "text/plain": [
       "             Income\n",
       "count     50.000000\n",
       "mean   50966.000000\n",
       "std    21096.683268\n",
       "min    15000.000000\n",
       "25%    33475.000000\n",
       "50%    46850.000000\n",
       "75%    65400.000000\n",
       "max    93000.000000"
      ]
     },
     "execution_count": 10,
     "metadata": {},
     "output_type": "execute_result"
    }
   ],
   "source": [
    "df.describe()"
   ]
  },
  {
   "cell_type": "code",
   "execution_count": 11,
   "id": "13988375-e578-409d-a520-05e1cf17357c",
   "metadata": {},
   "outputs": [
    {
     "name": "stdout",
     "output_type": "stream",
     "text": [
      "50966.0\n"
     ]
    }
   ],
   "source": [
    "mean_income = df['Income'].mean()\n",
    "print(mean_income)"
   ]
  },
  {
   "cell_type": "code",
   "execution_count": 12,
   "id": "791eb7c0-185d-47f3-a14e-0959e920eba5",
   "metadata": {},
   "outputs": [
    {
     "name": "stdout",
     "output_type": "stream",
     "text": [
      "46850.0\n"
     ]
    }
   ],
   "source": [
    "median_income = df['Income'].median()\n",
    "print(median_income)"
   ]
  },
  {
   "cell_type": "code",
   "execution_count": 13,
   "id": "e193b59d-5047-43f2-8782-f4eead86cef2",
   "metadata": {},
   "outputs": [
    {
     "data": {
      "text/plain": [
       "np.float64(21096.683267707253)"
      ]
     },
     "execution_count": 13,
     "metadata": {},
     "output_type": "execute_result"
    }
   ],
   "source": [
    "std_income = df['Income'].std()\n",
    "std_income"
   ]
  },
  {
   "cell_type": "code",
   "execution_count": 14,
   "id": "699e0ed3-34e0-4af0-a5f3-03730a6f4f99",
   "metadata": {},
   "outputs": [
    {
     "data": {
      "text/plain": [
       "np.int64(15000)"
      ]
     },
     "execution_count": 14,
     "metadata": {},
     "output_type": "execute_result"
    }
   ],
   "source": [
    "min_income = df['Income'].min()\n",
    "min_income"
   ]
  },
  {
   "cell_type": "code",
   "execution_count": 15,
   "id": "3714e4f2-146c-4a3d-ab75-be4d7f8f94b0",
   "metadata": {},
   "outputs": [
    {
     "data": {
      "text/plain": [
       "np.int64(93000)"
      ]
     },
     "execution_count": 15,
     "metadata": {},
     "output_type": "execute_result"
    }
   ],
   "source": [
    "max_income = df['Income'].max()\n",
    "max_income"
   ]
  },
  {
   "cell_type": "code",
   "execution_count": 16,
   "id": "94453a18-63fc-40fd-8719-f72a120790fe",
   "metadata": {},
   "outputs": [
    {
     "data": {
      "text/plain": [
       "np.float64(33475.0)"
      ]
     },
     "execution_count": 16,
     "metadata": {},
     "output_type": "execute_result"
    }
   ],
   "source": [
    "twentyfive_percent_income = np.percentile(df['Income'],25)\n",
    "twentyfive_percent_income"
   ]
  },
  {
   "cell_type": "code",
   "execution_count": 17,
   "id": "3adc591e-4b88-420e-a039-d625d04f8bbb",
   "metadata": {},
   "outputs": [
    {
     "data": {
      "text/plain": [
       "np.float64(46850.0)"
      ]
     },
     "execution_count": 17,
     "metadata": {},
     "output_type": "execute_result"
    }
   ],
   "source": [
    "half_percent_income = np.percentile(df['Income'],50)\n",
    "half_percent_income"
   ]
  },
  {
   "cell_type": "code",
   "execution_count": 18,
   "id": "ddb0bfc3-ade5-41d6-b620-a3d94ecc0fa6",
   "metadata": {},
   "outputs": [
    {
     "data": {
      "text/plain": [
       "np.float64(65400.0)"
      ]
     },
     "execution_count": 18,
     "metadata": {},
     "output_type": "execute_result"
    }
   ],
   "source": [
    "seventyfive_percent_income = np.percentile(df['Income'],75)\n",
    "seventyfive_percent_income"
   ]
  },
  {
   "cell_type": "code",
   "execution_count": 19,
   "id": "4622042c-7282-4879-868b-8584b8137b68",
   "metadata": {},
   "outputs": [
    {
     "data": {
      "text/plain": [
       "50966.0"
      ]
     },
     "execution_count": 19,
     "metadata": {},
     "output_type": "execute_result"
    }
   ],
   "source": [
    "#Without Libraries\n",
    "def custom_mean(column):\n",
    "    data = column.tolist()\n",
    "    return sum(data)/len(data)\n",
    "custom_mean_income = custom_mean(df['Income'])\n",
    "custom_mean_income"
   ]
  },
  {
   "cell_type": "code",
   "execution_count": 20,
   "id": "d522653e-84cb-402e-9887-fcac3d396830",
   "metadata": {},
   "outputs": [
    {
     "data": {
      "text/plain": [
       "46850.0"
      ]
     },
     "execution_count": 20,
     "metadata": {},
     "output_type": "execute_result"
    }
   ],
   "source": [
    "def custom_median(column):\n",
    "    data = column.tolist()\n",
    "    data = sorted(data)\n",
    "    n = len(data)\n",
    "    mid = n//2\n",
    "    if n%2 == 0:\n",
    "        return (data[mid-1] + data[mid])/2\n",
    "    else:\n",
    "        return data[mid]\n",
    "\n",
    "custom_median_income = custom_median(df['Income'])\n",
    "custom_median_income"
   ]
  },
  {
   "cell_type": "code",
   "execution_count": 21,
   "id": "2f55682c-bf86-4999-8176-c65a698ebb00",
   "metadata": {},
   "outputs": [
    {
     "data": {
      "text/plain": [
       "21096.683267707253"
      ]
     },
     "execution_count": 21,
     "metadata": {},
     "output_type": "execute_result"
    }
   ],
   "source": [
    "def standard(column):\n",
    "    data = column.tolist()\n",
    "    mean = custom_mean(column)\n",
    "    squared_diff = [(x-mean)**2 for x in data]\n",
    "    variance = sum(squared_diff)/(len(data)-1)\n",
    "    return variance**0.5\n",
    "\n",
    "custom_deviation = standard(df['Income'])\n",
    "custom_deviation"
   ]
  },
  {
   "cell_type": "code",
   "execution_count": 22,
   "id": "3dbaf0ad-28a0-4c3a-8dbd-43188e4873bd",
   "metadata": {},
   "outputs": [
    {
     "data": {
      "text/plain": [
       "15000"
      ]
     },
     "execution_count": 22,
     "metadata": {},
     "output_type": "execute_result"
    }
   ],
   "source": [
    "def custom_min(column):\n",
    "    data = column.tolist()\n",
    "    min_val = data[0]\n",
    "    for x in data:\n",
    "        if x < min_val:\n",
    "            min_val = x\n",
    "    return min_val\n",
    "\n",
    "custom_min_income = custom_min(df['Income'])\n",
    "custom_min_income"
   ]
  },
  {
   "cell_type": "code",
   "execution_count": 23,
   "id": "aec2d6f8-0c58-4590-b2e4-8df50747bb46",
   "metadata": {},
   "outputs": [
    {
     "data": {
      "text/plain": [
       "93000"
      ]
     },
     "execution_count": 23,
     "metadata": {},
     "output_type": "execute_result"
    }
   ],
   "source": [
    "def custom_max(column):\n",
    "    data = column.tolist()\n",
    "    max_val = data[0]\n",
    "    for x in data:\n",
    "        if x > max_val:\n",
    "            max_val = x\n",
    "    return max_val\n",
    "\n",
    "custom_max_income = custom_max(df['Income'])\n",
    "custom_max_income"
   ]
  },
  {
   "cell_type": "code",
   "execution_count": 24,
   "id": "d35978ac-83d9-4c7d-92dc-11bc1bd420eb",
   "metadata": {},
   "outputs": [
    {
     "name": "stdout",
     "output_type": "stream",
     "text": [
      "            count          mean           std      min      25%      50%  \\\n",
      "Age                                                                        \n",
      "Middle Age   15.0  52453.333333  20497.800114  25600.0  36900.0  53200.0   \n",
      "Old          19.0  53942.105263  20868.165968  24500.0  38700.0  45300.0   \n",
      "Young        16.0  46037.500000  22356.859499  15000.0  28750.0  41500.0   \n",
      "\n",
      "                75%      max  \n",
      "Age                           \n",
      "Middle Age  61200.0  93000.0  \n",
      "Old         71400.0  89700.0  \n",
      "Young       65850.0  87000.0  \n"
     ]
    }
   ],
   "source": [
    "income_summary = df.groupby('Age')['Income'].describe()\n",
    "print(income_summary)"
   ]
  },
  {
   "cell_type": "code",
   "execution_count": 25,
   "id": "450af4a1-75d2-4c83-a13f-0864e29b6f4c",
   "metadata": {},
   "outputs": [
    {
     "data": {
      "text/html": [
       "<div>\n",
       "<style scoped>\n",
       "    .dataframe tbody tr th:only-of-type {\n",
       "        vertical-align: middle;\n",
       "    }\n",
       "\n",
       "    .dataframe tbody tr th {\n",
       "        vertical-align: top;\n",
       "    }\n",
       "\n",
       "    .dataframe thead th {\n",
       "        text-align: right;\n",
       "    }\n",
       "</style>\n",
       "<table border=\"1\" class=\"dataframe\">\n",
       "  <thead>\n",
       "    <tr style=\"text-align: right;\">\n",
       "      <th></th>\n",
       "      <th>Age</th>\n",
       "      <th>Income</th>\n",
       "      <th>Encoded_Age</th>\n",
       "    </tr>\n",
       "  </thead>\n",
       "  <tbody>\n",
       "    <tr>\n",
       "      <th>0</th>\n",
       "      <td>Young</td>\n",
       "      <td>25000</td>\n",
       "      <td>2</td>\n",
       "    </tr>\n",
       "    <tr>\n",
       "      <th>1</th>\n",
       "      <td>Middle Age</td>\n",
       "      <td>54000</td>\n",
       "      <td>0</td>\n",
       "    </tr>\n",
       "    <tr>\n",
       "      <th>2</th>\n",
       "      <td>Old</td>\n",
       "      <td>60000</td>\n",
       "      <td>1</td>\n",
       "    </tr>\n",
       "    <tr>\n",
       "      <th>3</th>\n",
       "      <td>Young</td>\n",
       "      <td>15000</td>\n",
       "      <td>2</td>\n",
       "    </tr>\n",
       "    <tr>\n",
       "      <th>4</th>\n",
       "      <td>Young</td>\n",
       "      <td>45000</td>\n",
       "      <td>2</td>\n",
       "    </tr>\n",
       "    <tr>\n",
       "      <th>5</th>\n",
       "      <td>Young</td>\n",
       "      <td>65000</td>\n",
       "      <td>2</td>\n",
       "    </tr>\n",
       "    <tr>\n",
       "      <th>6</th>\n",
       "      <td>Young</td>\n",
       "      <td>70000</td>\n",
       "      <td>2</td>\n",
       "    </tr>\n",
       "    <tr>\n",
       "      <th>7</th>\n",
       "      <td>Young</td>\n",
       "      <td>30000</td>\n",
       "      <td>2</td>\n",
       "    </tr>\n",
       "    <tr>\n",
       "      <th>8</th>\n",
       "      <td>Middle Age</td>\n",
       "      <td>27000</td>\n",
       "      <td>0</td>\n",
       "    </tr>\n",
       "    <tr>\n",
       "      <th>9</th>\n",
       "      <td>Young</td>\n",
       "      <td>23000</td>\n",
       "      <td>2</td>\n",
       "    </tr>\n",
       "    <tr>\n",
       "      <th>10</th>\n",
       "      <td>Young</td>\n",
       "      <td>48000</td>\n",
       "      <td>2</td>\n",
       "    </tr>\n",
       "    <tr>\n",
       "      <th>11</th>\n",
       "      <td>Old</td>\n",
       "      <td>52000</td>\n",
       "      <td>1</td>\n",
       "    </tr>\n",
       "    <tr>\n",
       "      <th>12</th>\n",
       "      <td>Young</td>\n",
       "      <td>33000</td>\n",
       "      <td>2</td>\n",
       "    </tr>\n",
       "    <tr>\n",
       "      <th>13</th>\n",
       "      <td>Old</td>\n",
       "      <td>80000</td>\n",
       "      <td>1</td>\n",
       "    </tr>\n",
       "    <tr>\n",
       "      <th>14</th>\n",
       "      <td>Old</td>\n",
       "      <td>75000</td>\n",
       "      <td>1</td>\n",
       "    </tr>\n",
       "    <tr>\n",
       "      <th>15</th>\n",
       "      <td>Old</td>\n",
       "      <td>35000</td>\n",
       "      <td>1</td>\n",
       "    </tr>\n",
       "    <tr>\n",
       "      <th>16</th>\n",
       "      <td>Middle Age</td>\n",
       "      <td>29000</td>\n",
       "      <td>0</td>\n",
       "    </tr>\n",
       "    <tr>\n",
       "      <th>17</th>\n",
       "      <td>Middle Age</td>\n",
       "      <td>57000</td>\n",
       "      <td>0</td>\n",
       "    </tr>\n",
       "    <tr>\n",
       "      <th>18</th>\n",
       "      <td>Old</td>\n",
       "      <td>43000</td>\n",
       "      <td>1</td>\n",
       "    </tr>\n",
       "    <tr>\n",
       "      <th>19</th>\n",
       "      <td>Middle Age</td>\n",
       "      <td>56000</td>\n",
       "      <td>0</td>\n",
       "    </tr>\n",
       "    <tr>\n",
       "      <th>20</th>\n",
       "      <td>Old</td>\n",
       "      <td>63000</td>\n",
       "      <td>1</td>\n",
       "    </tr>\n",
       "    <tr>\n",
       "      <th>21</th>\n",
       "      <td>Old</td>\n",
       "      <td>32000</td>\n",
       "      <td>1</td>\n",
       "    </tr>\n",
       "    <tr>\n",
       "      <th>22</th>\n",
       "      <td>Old</td>\n",
       "      <td>45000</td>\n",
       "      <td>1</td>\n",
       "    </tr>\n",
       "    <tr>\n",
       "      <th>23</th>\n",
       "      <td>Old</td>\n",
       "      <td>89000</td>\n",
       "      <td>1</td>\n",
       "    </tr>\n",
       "    <tr>\n",
       "      <th>24</th>\n",
       "      <td>Middle Age</td>\n",
       "      <td>90000</td>\n",
       "      <td>0</td>\n",
       "    </tr>\n",
       "    <tr>\n",
       "      <th>25</th>\n",
       "      <td>Middle Age</td>\n",
       "      <td>93000</td>\n",
       "      <td>0</td>\n",
       "    </tr>\n",
       "    <tr>\n",
       "      <th>26</th>\n",
       "      <td>Young</td>\n",
       "      <td>80000</td>\n",
       "      <td>2</td>\n",
       "    </tr>\n",
       "    <tr>\n",
       "      <th>27</th>\n",
       "      <td>Young</td>\n",
       "      <td>87000</td>\n",
       "      <td>2</td>\n",
       "    </tr>\n",
       "    <tr>\n",
       "      <th>28</th>\n",
       "      <td>Young</td>\n",
       "      <td>38000</td>\n",
       "      <td>2</td>\n",
       "    </tr>\n",
       "    <tr>\n",
       "      <th>29</th>\n",
       "      <td>Young</td>\n",
       "      <td>23000</td>\n",
       "      <td>2</td>\n",
       "    </tr>\n",
       "    <tr>\n",
       "      <th>30</th>\n",
       "      <td>Middle Age</td>\n",
       "      <td>38900</td>\n",
       "      <td>0</td>\n",
       "    </tr>\n",
       "    <tr>\n",
       "      <th>31</th>\n",
       "      <td>Middle Age</td>\n",
       "      <td>53200</td>\n",
       "      <td>0</td>\n",
       "    </tr>\n",
       "    <tr>\n",
       "      <th>32</th>\n",
       "      <td>Old</td>\n",
       "      <td>43800</td>\n",
       "      <td>1</td>\n",
       "    </tr>\n",
       "    <tr>\n",
       "      <th>33</th>\n",
       "      <td>Middle Age</td>\n",
       "      <td>25600</td>\n",
       "      <td>0</td>\n",
       "    </tr>\n",
       "    <tr>\n",
       "      <th>34</th>\n",
       "      <td>Middle Age</td>\n",
       "      <td>65400</td>\n",
       "      <td>0</td>\n",
       "    </tr>\n",
       "    <tr>\n",
       "      <th>35</th>\n",
       "      <td>Old</td>\n",
       "      <td>76800</td>\n",
       "      <td>1</td>\n",
       "    </tr>\n",
       "    <tr>\n",
       "      <th>36</th>\n",
       "      <td>Old</td>\n",
       "      <td>89700</td>\n",
       "      <td>1</td>\n",
       "    </tr>\n",
       "    <tr>\n",
       "      <th>37</th>\n",
       "      <td>Old</td>\n",
       "      <td>41800</td>\n",
       "      <td>1</td>\n",
       "    </tr>\n",
       "    <tr>\n",
       "      <th>38</th>\n",
       "      <td>Young</td>\n",
       "      <td>31900</td>\n",
       "      <td>2</td>\n",
       "    </tr>\n",
       "    <tr>\n",
       "      <th>39</th>\n",
       "      <td>Old</td>\n",
       "      <td>25600</td>\n",
       "      <td>1</td>\n",
       "    </tr>\n",
       "    <tr>\n",
       "      <th>40</th>\n",
       "      <td>Middle Age</td>\n",
       "      <td>45700</td>\n",
       "      <td>0</td>\n",
       "    </tr>\n",
       "    <tr>\n",
       "      <th>41</th>\n",
       "      <td>Old</td>\n",
       "      <td>35600</td>\n",
       "      <td>1</td>\n",
       "    </tr>\n",
       "    <tr>\n",
       "      <th>42</th>\n",
       "      <td>Young</td>\n",
       "      <td>54300</td>\n",
       "      <td>2</td>\n",
       "    </tr>\n",
       "    <tr>\n",
       "      <th>43</th>\n",
       "      <td>Middle Age</td>\n",
       "      <td>65400</td>\n",
       "      <td>0</td>\n",
       "    </tr>\n",
       "    <tr>\n",
       "      <th>44</th>\n",
       "      <td>Old</td>\n",
       "      <td>67800</td>\n",
       "      <td>1</td>\n",
       "    </tr>\n",
       "    <tr>\n",
       "      <th>45</th>\n",
       "      <td>Old</td>\n",
       "      <td>24500</td>\n",
       "      <td>1</td>\n",
       "    </tr>\n",
       "    <tr>\n",
       "      <th>46</th>\n",
       "      <td>Middle Age</td>\n",
       "      <td>34900</td>\n",
       "      <td>0</td>\n",
       "    </tr>\n",
       "    <tr>\n",
       "      <th>47</th>\n",
       "      <td>Old</td>\n",
       "      <td>45300</td>\n",
       "      <td>1</td>\n",
       "    </tr>\n",
       "    <tr>\n",
       "      <th>48</th>\n",
       "      <td>Young</td>\n",
       "      <td>68400</td>\n",
       "      <td>2</td>\n",
       "    </tr>\n",
       "    <tr>\n",
       "      <th>49</th>\n",
       "      <td>Middle Age</td>\n",
       "      <td>51700</td>\n",
       "      <td>0</td>\n",
       "    </tr>\n",
       "  </tbody>\n",
       "</table>\n",
       "</div>"
      ],
      "text/plain": [
       "           Age  Income  Encoded_Age\n",
       "0        Young   25000            2\n",
       "1   Middle Age   54000            0\n",
       "2          Old   60000            1\n",
       "3        Young   15000            2\n",
       "4        Young   45000            2\n",
       "5        Young   65000            2\n",
       "6        Young   70000            2\n",
       "7        Young   30000            2\n",
       "8   Middle Age   27000            0\n",
       "9        Young   23000            2\n",
       "10       Young   48000            2\n",
       "11         Old   52000            1\n",
       "12       Young   33000            2\n",
       "13         Old   80000            1\n",
       "14         Old   75000            1\n",
       "15         Old   35000            1\n",
       "16  Middle Age   29000            0\n",
       "17  Middle Age   57000            0\n",
       "18         Old   43000            1\n",
       "19  Middle Age   56000            0\n",
       "20         Old   63000            1\n",
       "21         Old   32000            1\n",
       "22         Old   45000            1\n",
       "23         Old   89000            1\n",
       "24  Middle Age   90000            0\n",
       "25  Middle Age   93000            0\n",
       "26       Young   80000            2\n",
       "27       Young   87000            2\n",
       "28       Young   38000            2\n",
       "29       Young   23000            2\n",
       "30  Middle Age   38900            0\n",
       "31  Middle Age   53200            0\n",
       "32         Old   43800            1\n",
       "33  Middle Age   25600            0\n",
       "34  Middle Age   65400            0\n",
       "35         Old   76800            1\n",
       "36         Old   89700            1\n",
       "37         Old   41800            1\n",
       "38       Young   31900            2\n",
       "39         Old   25600            1\n",
       "40  Middle Age   45700            0\n",
       "41         Old   35600            1\n",
       "42       Young   54300            2\n",
       "43  Middle Age   65400            0\n",
       "44         Old   67800            1\n",
       "45         Old   24500            1\n",
       "46  Middle Age   34900            0\n",
       "47         Old   45300            1\n",
       "48       Young   68400            2\n",
       "49  Middle Age   51700            0"
      ]
     },
     "execution_count": 25,
     "metadata": {},
     "output_type": "execute_result"
    }
   ],
   "source": [
    "df['Encoded_Age'] = le.fit_transform(df['Age'])\n",
    "df"
   ]
  }
 ],
 "metadata": {
  "kernelspec": {
   "display_name": "Python 3 (ipykernel)",
   "language": "python",
   "name": "python3"
  },
  "language_info": {
   "codemirror_mode": {
    "name": "ipython",
    "version": 3
   },
   "file_extension": ".py",
   "mimetype": "text/x-python",
   "name": "python",
   "nbconvert_exporter": "python",
   "pygments_lexer": "ipython3",
   "version": "3.13.2"
  }
 },
 "nbformat": 4,
 "nbformat_minor": 5
}
